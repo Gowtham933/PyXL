{
 "cells": [
  {
   "cell_type": "code",
   "execution_count": 5,
   "id": "de2e1cf6-1be9-4aeb-955c-a1fe0a0626f7",
   "metadata": {},
   "outputs": [
    {
     "name": "stdout",
     "output_type": "stream",
     "text": [
      "Defaulting to user installation because normal site-packages is not writeable\n",
      "Looking in links: /usr/share/pip-wheels\n",
      "Collecting xlsxwriter\n",
      "  Downloading XlsxWriter-3.2.0-py3-none-any.whl.metadata (2.6 kB)\n",
      "Downloading XlsxWriter-3.2.0-py3-none-any.whl (159 kB)\n",
      "\u001b[2K   \u001b[38;5;70m━━━━━━━━━━━━━━━━━━━━━━━━━━━━━━━━━━━━━━━━\u001b[0m \u001b[32m159.9/159.9 kB\u001b[0m \u001b[31m4.2 MB/s\u001b[0m eta \u001b[36m0:00:00\u001b[0m.3 MB/s\u001b[0m eta \u001b[36m0:00:01\u001b[0m\n",
      "\u001b[?25hInstalling collected packages: xlsxwriter\n",
      "Successfully installed xlsxwriter-3.2.0\n",
      "Note: you may need to restart the kernel to use updated packages.\n"
     ]
    }
   ],
   "source": [
    "pip install xlsxwriter"
   ]
  },
  {
   "cell_type": "code",
   "execution_count": 10,
   "id": "f7eaa3d2-1f3c-499f-807c-56262187f0cd",
   "metadata": {},
   "outputs": [],
   "source": [
    "import pandas as pd\n",
    "import xlsxwriter\n",
    "\n",
    "# Sample data\n",
    "categories = [\"Poor Service\", \"Late Deliveries\", \"Defective Products\", \"Incorrect Orders\", \"Others\"]\n",
    "frequencies = [35, 20, 15, 10, 20]\n",
    "\n",
    "# Calculate cumulative frequencies and percentages\n",
    "total = sum(frequencies)\n",
    "cumulative_frequencies = [sum(frequencies[:i+1]) for i in range(len(frequencies))]\n",
    "cumulative_percentages = [cf / total * 100 for cf in cumulative_frequencies]\n",
    "\n",
    "# Create a DataFrame\n",
    "df = pd.DataFrame({'Category': categories, 'Frequency': frequencies,\n",
    "                   'Cumulative Frequency': cumulative_frequencies,\n",
    "                   'Cumulative Percentage': cumulative_percentages})\n",
    "\n",
    "# Create a new Excel workbook and add a worksheet\n",
    "workbook = xlsxwriter.Workbook('InteractiveParetoChart.xlsx')\n",
    "worksheet = workbook.add_worksheet()\n",
    "\n",
    "# Write the data to the worksheet\n",
    "worksheet.write_row('A1', ['Category', 'Frequency', 'Cumulative Frequency', 'Cumulative Percentage'])\n",
    "worksheet.write_column('A2', df['Category'])\n",
    "worksheet.write_column('B2', df['Frequency'])\n",
    "worksheet.write_column('C2', df['Cumulative Frequency'])\n",
    "worksheet.write_column('D2', df['Cumulative Percentage'])\n",
    "\n",
    "# Add data validation for selecting categories\n",
    "worksheet.data_validation('F2', {'validate': 'list',\n",
    "                                 'source': '=Sheet1!$A$2:$A$6'})\n",
    "\n",
    "# Add hyperlinks to each category cell to navigate to a specific cell in the worksheet\n",
    "for i, category in enumerate(categories):\n",
    "    worksheet.write_url(i + 1, 5, f'#\\'Sheet1\\'!A{i+2}', string=category)\n",
    "\n",
    "# Create a chart object\n",
    "chart = workbook.add_chart({'type': 'column'})\n",
    "\n",
    "# Configure the series\n",
    "chart.add_series({\n",
    "    'categories': '=Sheet1!$A$2:$A$6',\n",
    "    'values': '=Sheet1!$B$2:$B$6',\n",
    "    'data_labels': {'value': True}\n",
    "})\n",
    "\n",
    "# Add a second series for the cumulative percentage\n",
    "chart.add_series({\n",
    "    'categories': '=Sheet1!$A$2:$A$6',\n",
    "    'values': '=Sheet1!$D$2:$D$6',\n",
    "    'y2_axis': True,\n",
    "    'marker': {'type': 'none'}\n",
    "})\n",
    "\n",
    "# Set the chart title and axis labels\n",
    "chart.set_title({'name': 'Pareto Chart'})\n",
    "chart.set_x_axis({'name': 'Categories', 'text_axis': True, 'num_font': {'rotation': -90}})\n",
    "chart.set_y_axis({'name': 'Frequency'})\n",
    "chart.set_y2_axis({'name': 'Cumulative Percentage'})\n",
    "\n",
    "# Insert the chart into the worksheet\n",
    "worksheet.insert_chart('F2', chart)\n",
    "\n",
    "# Close the workbook\n",
    "workbook.close()\n"
   ]
  },
  {
   "cell_type": "code",
   "execution_count": null,
   "id": "a85dbf58-a775-4787-9d3b-c604af9a1060",
   "metadata": {},
   "outputs": [],
   "source": []
  }
 ],
 "metadata": {
  "kernelspec": {
   "display_name": "anaconda-2024.02-py310",
   "language": "python",
   "name": "conda-env-anaconda-2024.02-py310-py"
  },
  "language_info": {
   "codemirror_mode": {
    "name": "ipython",
    "version": 3
   },
   "file_extension": ".py",
   "mimetype": "text/x-python",
   "name": "python",
   "nbconvert_exporter": "python",
   "pygments_lexer": "ipython3",
   "version": "3.10.14"
  }
 },
 "nbformat": 4,
 "nbformat_minor": 5
}
