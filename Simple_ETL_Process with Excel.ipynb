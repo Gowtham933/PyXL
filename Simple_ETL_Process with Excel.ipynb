{
 "cells": [
  {
   "cell_type": "code",
   "execution_count": 26,
   "id": "435bd88f-7292-46a4-ab30-a06b92ea277d",
   "metadata": {},
   "outputs": [],
   "source": [
    "import pandas as pd"
   ]
  },
  {
   "cell_type": "code",
   "execution_count": 98,
   "id": "b0701b46-f5e6-4227-9642-2d1891ea2392",
   "metadata": {},
   "outputs": [],
   "source": [
    "#Extracting data from excel file \n",
    "\n",
    "def extract_data(file_path: str, sheet_name: str) -> pd.DataFrame:\n",
    "    return pd.read_excel(file_path, sheet_name=sheet_name)"
   ]
  },
  {
   "cell_type": "code",
   "execution_count": 100,
   "id": "958fd420-4db8-413f-9732-019c58d1a663",
   "metadata": {},
   "outputs": [],
   "source": [
    "input_file=\"Input_data.xlsx\""
   ]
  },
  {
   "cell_type": "code",
   "execution_count": 102,
   "id": "5431e7c1-8f75-47a7-b413-96a1b9b75545",
   "metadata": {},
   "outputs": [],
   "source": [
    "raw_data=extract_data(input_file, \"Sheet1\")"
   ]
  },
  {
   "cell_type": "code",
   "execution_count": 104,
   "id": "90896797-8002-45e0-aceb-eaa7861b4697",
   "metadata": {},
   "outputs": [
    {
     "name": "stdout",
     "output_type": "stream",
     "text": [
      "Data Extracted:\n"
     ]
    }
   ],
   "source": [
    "print(\"Data Extracted:\")"
   ]
  },
  {
   "cell_type": "code",
   "execution_count": 110,
   "id": "bd38b076-bb3b-46df-b45c-c4824b81bbf3",
   "metadata": {},
   "outputs": [
    {
     "data": {
      "text/html": [
       "<div>\n",
       "<style scoped>\n",
       "    .dataframe tbody tr th:only-of-type {\n",
       "        vertical-align: middle;\n",
       "    }\n",
       "\n",
       "    .dataframe tbody tr th {\n",
       "        vertical-align: top;\n",
       "    }\n",
       "\n",
       "    .dataframe thead th {\n",
       "        text-align: right;\n",
       "    }\n",
       "</style>\n",
       "<table border=\"1\" class=\"dataframe\">\n",
       "  <thead>\n",
       "    <tr style=\"text-align: right;\">\n",
       "      <th></th>\n",
       "      <th>Catogery</th>\n",
       "      <th>Product</th>\n",
       "      <th>Value</th>\n",
       "    </tr>\n",
       "  </thead>\n",
       "  <tbody>\n",
       "    <tr>\n",
       "      <th>0</th>\n",
       "      <td>A</td>\n",
       "      <td>Apple</td>\n",
       "      <td>55</td>\n",
       "    </tr>\n",
       "    <tr>\n",
       "      <th>1</th>\n",
       "      <td>B</td>\n",
       "      <td>Ball</td>\n",
       "      <td>60</td>\n",
       "    </tr>\n",
       "    <tr>\n",
       "      <th>2</th>\n",
       "      <td>C</td>\n",
       "      <td>Cat</td>\n",
       "      <td>75</td>\n",
       "    </tr>\n",
       "  </tbody>\n",
       "</table>\n",
       "</div>"
      ],
      "text/plain": [
       "  Catogery Product  Value\n",
       "0        A  Apple      55\n",
       "1        B    Ball     60\n",
       "2        C     Cat     75"
      ]
     },
     "execution_count": 110,
     "metadata": {},
     "output_type": "execute_result"
    }
   ],
   "source": [
    "raw_data.head()"
   ]
  },
  {
   "cell_type": "code",
   "execution_count": 112,
   "id": "4bd9e554-9bc9-49e2-9b25-5850b1d5f4d6",
   "metadata": {},
   "outputs": [],
   "source": [
    "#load Data\n",
    "loaded_data=raw_data.copy()"
   ]
  },
  {
   "cell_type": "code",
   "execution_count": 114,
   "id": "6023d0e3-b666-40c8-a56b-b91615ef7299",
   "metadata": {},
   "outputs": [
    {
     "name": "stdout",
     "output_type": "stream",
     "text": [
      "Data loaded:\n"
     ]
    }
   ],
   "source": [
    "print(\"Data loaded:\")"
   ]
  },
  {
   "cell_type": "code",
   "execution_count": 116,
   "id": "51f45790-a610-40be-8ff5-ebe25ac79400",
   "metadata": {},
   "outputs": [
    {
     "data": {
      "text/html": [
       "<div>\n",
       "<style scoped>\n",
       "    .dataframe tbody tr th:only-of-type {\n",
       "        vertical-align: middle;\n",
       "    }\n",
       "\n",
       "    .dataframe tbody tr th {\n",
       "        vertical-align: top;\n",
       "    }\n",
       "\n",
       "    .dataframe thead th {\n",
       "        text-align: right;\n",
       "    }\n",
       "</style>\n",
       "<table border=\"1\" class=\"dataframe\">\n",
       "  <thead>\n",
       "    <tr style=\"text-align: right;\">\n",
       "      <th></th>\n",
       "      <th>Catogery</th>\n",
       "      <th>Product</th>\n",
       "      <th>Value</th>\n",
       "    </tr>\n",
       "  </thead>\n",
       "  <tbody>\n",
       "    <tr>\n",
       "      <th>0</th>\n",
       "      <td>A</td>\n",
       "      <td>Apple</td>\n",
       "      <td>55</td>\n",
       "    </tr>\n",
       "    <tr>\n",
       "      <th>1</th>\n",
       "      <td>B</td>\n",
       "      <td>Ball</td>\n",
       "      <td>60</td>\n",
       "    </tr>\n",
       "    <tr>\n",
       "      <th>2</th>\n",
       "      <td>C</td>\n",
       "      <td>Cat</td>\n",
       "      <td>75</td>\n",
       "    </tr>\n",
       "  </tbody>\n",
       "</table>\n",
       "</div>"
      ],
      "text/plain": [
       "  Catogery Product  Value\n",
       "0        A  Apple      55\n",
       "1        B    Ball     60\n",
       "2        C     Cat     75"
      ]
     },
     "execution_count": 116,
     "metadata": {},
     "output_type": "execute_result"
    }
   ],
   "source": [
    "loaded_data.head()"
   ]
  },
  {
   "cell_type": "code",
   "execution_count": 118,
   "id": "e06ef84d-c37a-4bae-bd41-3d3b58a24aa1",
   "metadata": {},
   "outputs": [
    {
     "data": {
      "text/plain": [
       "0    55\n",
       "1    60\n",
       "2    75\n",
       "Name: Value, dtype: int64"
      ]
     },
     "execution_count": 118,
     "metadata": {},
     "output_type": "execute_result"
    }
   ],
   "source": [
    "loaded_data[\"Value\"]"
   ]
  },
  {
   "cell_type": "code",
   "execution_count": 120,
   "id": "1053a712-f108-4786-b0af-9962b57eba2a",
   "metadata": {},
   "outputs": [],
   "source": [
    "# Step 3: Transform Data\n",
    "def transform_data(df: pd.DataFrame) -> pd.DataFrame:\n",
    "    # Filter rows where a column value meets a condition\n",
    "    df_filtered = df[loaded_data[\"Value\"] >55]\n",
    "\n",
    "    # # Add a new column based on existing data\n",
    "    # df_filtered['NewColumn'] = df_filtered['ColumnName'] * 2\n",
    "\n",
    "    # More transformations can be added here\n",
    "    return df_filtered"
   ]
  },
  {
   "cell_type": "code",
   "execution_count": 122,
   "id": "a1b9821d-2fca-4c14-be45-8bb6b2a201a1",
   "metadata": {},
   "outputs": [
    {
     "name": "stdout",
     "output_type": "stream",
     "text": [
      "Data Transformed:\n"
     ]
    },
    {
     "data": {
      "text/html": [
       "<div>\n",
       "<style scoped>\n",
       "    .dataframe tbody tr th:only-of-type {\n",
       "        vertical-align: middle;\n",
       "    }\n",
       "\n",
       "    .dataframe tbody tr th {\n",
       "        vertical-align: top;\n",
       "    }\n",
       "\n",
       "    .dataframe thead th {\n",
       "        text-align: right;\n",
       "    }\n",
       "</style>\n",
       "<table border=\"1\" class=\"dataframe\">\n",
       "  <thead>\n",
       "    <tr style=\"text-align: right;\">\n",
       "      <th></th>\n",
       "      <th>Catogery</th>\n",
       "      <th>Product</th>\n",
       "      <th>Value</th>\n",
       "    </tr>\n",
       "  </thead>\n",
       "  <tbody>\n",
       "    <tr>\n",
       "      <th>1</th>\n",
       "      <td>B</td>\n",
       "      <td>Ball</td>\n",
       "      <td>60</td>\n",
       "    </tr>\n",
       "    <tr>\n",
       "      <th>2</th>\n",
       "      <td>C</td>\n",
       "      <td>Cat</td>\n",
       "      <td>75</td>\n",
       "    </tr>\n",
       "  </tbody>\n",
       "</table>\n",
       "</div>"
      ],
      "text/plain": [
       "  Catogery Product  Value\n",
       "1        B    Ball     60\n",
       "2        C     Cat     75"
      ]
     },
     "execution_count": 122,
     "metadata": {},
     "output_type": "execute_result"
    }
   ],
   "source": [
    "transformed_data = transform_data(loaded_data)\n",
    "\n",
    "print(\"Data Transformed:\")\n",
    "transformed_data.head()"
   ]
  },
  {
   "cell_type": "code",
   "execution_count": 124,
   "id": "bdaf10a2-89d7-43d4-9bc7-2fb85f56e60a",
   "metadata": {},
   "outputs": [],
   "source": [
    "# Step 4: Load Transformed Data to Excel\n",
    "def load_data(df: pd.DataFrame, output_file: str, sheet_name: str):\n",
    "    df.to_excel(output_file, sheet_name=sheet_name, index=False)\n",
    "\n",
    "output_file = 'output_data.xlsx'\n",
    "load_data(transformed_data, output_file, 'ProcessedData')"
   ]
  },
  {
   "cell_type": "code",
   "execution_count": 126,
   "id": "9ae68908-60a2-40bf-903a-54848e4a97b1",
   "metadata": {},
   "outputs": [
    {
     "name": "stdout",
     "output_type": "stream",
     "text": [
      "Transformed data written to output_data.xlsx\n"
     ]
    }
   ],
   "source": [
    "print(f\"Transformed data written to {output_file}\")"
   ]
  },
  {
   "cell_type": "code",
   "execution_count": null,
   "id": "4e2e3ef0-d2e8-4074-a851-e8a64aa54143",
   "metadata": {},
   "outputs": [],
   "source": []
  }
 ],
 "metadata": {
  "kernelspec": {
   "display_name": "anaconda-2024.02-py310",
   "language": "python",
   "name": "conda-env-anaconda-2024.02-py310-py"
  },
  "language_info": {
   "codemirror_mode": {
    "name": "ipython",
    "version": 3
   },
   "file_extension": ".py",
   "mimetype": "text/x-python",
   "name": "python",
   "nbconvert_exporter": "python",
   "pygments_lexer": "ipython3",
   "version": "3.10.14"
  }
 },
 "nbformat": 4,
 "nbformat_minor": 5
}
