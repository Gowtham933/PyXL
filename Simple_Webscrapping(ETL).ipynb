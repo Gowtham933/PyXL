{
 "cells": [
  {
   "cell_type": "markdown",
   "id": "f86d85a7-1d0a-4c1f-b4ad-1efaf6b2f632",
   "metadata": {},
   "source": [
    "pip install pandas requests beautifulsoup4 openpyxl\n",
    "(Install when necessary)"
   ]
  },
  {
   "cell_type": "code",
   "execution_count": 123,
   "id": "54db6d8a-3ff8-49ac-9fd8-b5a1e31f13ec",
   "metadata": {},
   "outputs": [],
   "source": [
    "#necessary library to import\n",
    "import requests\n",
    "from bs4 import BeautifulSoup\n",
    "import pandas as pd"
   ]
  },
  {
   "cell_type": "code",
   "execution_count": 143,
   "id": "b627829e-3c06-4aa2-8788-34aef3af1da3",
   "metadata": {},
   "outputs": [
    {
     "name": "stdout",
     "output_type": "stream",
     "text": [
      "Data has been extracted and saved to population_data.xlsx\n"
     ]
    }
   ],
   "source": [
    "# Wikipedia URL to scrape data from\n",
    "wiki_url = \"https://en.wikipedia.org/wiki/List_of_countries_by_population_(United_Nations)\"\n",
    "\n",
    "# Send a GET request to the URL\n",
    "response = requests.get(wiki_url)\n",
    "\n",
    "# Parse the HTML content of the page\n",
    "soup = BeautifulSoup(response.content, 'html.parser')\n",
    "\n",
    "# Find the table containing the data\n",
    "table = soup.find(\"table\", {\"class\": \"wikitable\"})\n",
    "\n",
    "# Extract the table headers\n",
    "headers = [header.text.strip() for header in table.find_all(\"th\")]\n",
    "\n",
    "# Extract the table rows\n",
    "rows = []\n",
    "for row in table.find_all(\"tr\")[1:]:\n",
    "    rows.append([cell.text.strip() for cell in row.find_all(\"td\")])\n",
    "\n",
    "# Create a DataFrame from the extracted data\n",
    "df = pd.DataFrame(rows, columns=headers)\n",
    "\n",
    "# Save DataFrame to an Excel file\n",
    "excel_file = \"population_data.xlsx\"\n",
    "df.to_excel(excel_file, index=False)\n",
    "\n",
    "print(\"Data has been extracted and saved to\", excel_file)"
   ]
  },
  {
   "cell_type": "code",
   "execution_count": 145,
   "id": "39bedf27-1b7e-4b3a-a99b-f89ee36fdb89",
   "metadata": {},
   "outputs": [],
   "source": [
    "# Load the Excel file into a DataFrame\n",
    "excel_file = \"population_data.xlsx\"\n",
    "df = pd.read_excel(excel_file)"
   ]
  },
  {
   "cell_type": "code",
   "execution_count": 147,
   "id": "a23ac7d7-c3a1-41f2-860d-93797a91ba93",
   "metadata": {},
   "outputs": [],
   "source": [
    "# Remove duplicate rows\n",
    "df = df.drop_duplicates()"
   ]
  },
  {
   "cell_type": "code",
   "execution_count": 149,
   "id": "8cf9f0c7-89db-40f5-a322-bb5a9f05f25f",
   "metadata": {},
   "outputs": [],
   "source": [
    "# Handle missing values\n",
    "df = df.dropna()"
   ]
  },
  {
   "cell_type": "code",
   "execution_count": 151,
   "id": "05cbd10f-cfae-4253-859e-f8c0fa9ec15c",
   "metadata": {},
   "outputs": [
    {
     "data": {
      "text/plain": [
       "Location                       object\n",
       "Population(1 July 2022)        object\n",
       "Population(1 July 2023)        object\n",
       "Change                         object\n",
       "UN Continental Region[1]       object\n",
       "UN Statistical Subregion[1]    object\n",
       "dtype: object"
      ]
     },
     "execution_count": 151,
     "metadata": {},
     "output_type": "execute_result"
    }
   ],
   "source": [
    "df.dtypes"
   ]
  },
  {
   "cell_type": "code",
   "execution_count": 283,
   "id": "997a1f72-0f32-45d3-9576-363f72854105",
   "metadata": {},
   "outputs": [],
   "source": [
    "df[\"Location\"]=df[\"Location\"].astype(pd.StringDtype())"
   ]
  },
  {
   "cell_type": "code",
   "execution_count": 285,
   "id": "8762626a-4e8b-4ab8-84a6-13ea40320f54",
   "metadata": {},
   "outputs": [],
   "source": [
    "# Convert the column to string type before using the .str accessor\n",
    "df['Population(1 July 2022)'] = df['Population(1 July 2022)'].astype(str).str.replace(',', '').astype(int)"
   ]
  },
  {
   "cell_type": "code",
   "execution_count": 291,
   "id": "0d0a2829-7fbf-4a83-9502-b65156e52291",
   "metadata": {},
   "outputs": [],
   "source": [
    "df['Population(1 July 2023)'] = df['Population(1 July 2023)'].astype(str).str.replace(',', '').astype(int)"
   ]
  },
  {
   "cell_type": "code",
   "execution_count": 293,
   "id": "e0c32a6e-39b0-4c34-8dfd-65da6c7cb2fe",
   "metadata": {},
   "outputs": [],
   "source": [
    "df[\"Change\"] = df[\"Change\"].astype(str).str.replace('−', '-').str.replace('%', '').astype(float)"
   ]
  },
  {
   "cell_type": "code",
   "execution_count": 295,
   "id": "e7524c52-33b1-4de3-a2f8-c4b4be77dcf6",
   "metadata": {},
   "outputs": [],
   "source": [
    "df[\"UN Continental Region[1]\"]=df[\"UN Continental Region[1]\"].astype(pd.StringDtype())"
   ]
  },
  {
   "cell_type": "code",
   "execution_count": 297,
   "id": "39ab4a91-36b1-45d7-a6e9-111dae970bef",
   "metadata": {},
   "outputs": [],
   "source": [
    "df[\"UN Statistical Subregion[1]\"]=df[\"UN Statistical Subregion[1]\"].astype(pd.StringDtype())"
   ]
  },
  {
   "cell_type": "code",
   "execution_count": 299,
   "id": "153f1768-2249-4f08-9574-b239e7afe9d1",
   "metadata": {},
   "outputs": [
    {
     "data": {
      "text/plain": [
       "Location                       string[python]\n",
       "Population(1 July 2022)                 int64\n",
       "Population(1 July 2023)                 int64\n",
       "Change                                float64\n",
       "UN Continental Region[1]       string[python]\n",
       "UN Statistical Subregion[1]    string[python]\n",
       "location                       string[python]\n",
       "dtype: object"
      ]
     },
     "execution_count": 299,
     "metadata": {},
     "output_type": "execute_result"
    }
   ],
   "source": [
    "df.dtypes"
   ]
  },
  {
   "cell_type": "code",
   "execution_count": 301,
   "id": "fb9c1853-ceac-44da-869f-4000ee981c51",
   "metadata": {},
   "outputs": [
    {
     "data": {
      "text/html": [
       "<div>\n",
       "<style scoped>\n",
       "    .dataframe tbody tr th:only-of-type {\n",
       "        vertical-align: middle;\n",
       "    }\n",
       "\n",
       "    .dataframe tbody tr th {\n",
       "        vertical-align: top;\n",
       "    }\n",
       "\n",
       "    .dataframe thead th {\n",
       "        text-align: right;\n",
       "    }\n",
       "</style>\n",
       "<table border=\"1\" class=\"dataframe\">\n",
       "  <thead>\n",
       "    <tr style=\"text-align: right;\">\n",
       "      <th></th>\n",
       "      <th>Location</th>\n",
       "      <th>Population(1 July 2022)</th>\n",
       "      <th>Population(1 July 2023)</th>\n",
       "      <th>Change</th>\n",
       "      <th>UN Continental Region[1]</th>\n",
       "      <th>UN Statistical Subregion[1]</th>\n",
       "      <th>location</th>\n",
       "    </tr>\n",
       "  </thead>\n",
       "  <tbody>\n",
       "    <tr>\n",
       "      <th>1</th>\n",
       "      <td>India</td>\n",
       "      <td>1428627663</td>\n",
       "      <td>1428627663</td>\n",
       "      <td>0.8100</td>\n",
       "      <td>Asia</td>\n",
       "      <td>Southern Asia</td>\n",
       "      <td>India</td>\n",
       "    </tr>\n",
       "    <tr>\n",
       "      <th>2</th>\n",
       "      <td>China[a]</td>\n",
       "      <td>1425671352</td>\n",
       "      <td>1425671352</td>\n",
       "      <td>-0.0200</td>\n",
       "      <td>Asia</td>\n",
       "      <td>Eastern Asia</td>\n",
       "      <td>China[a]</td>\n",
       "    </tr>\n",
       "    <tr>\n",
       "      <th>3</th>\n",
       "      <td>United States</td>\n",
       "      <td>339996564</td>\n",
       "      <td>339996564</td>\n",
       "      <td>0.5000</td>\n",
       "      <td>Americas</td>\n",
       "      <td>Northern America</td>\n",
       "      <td>United States</td>\n",
       "    </tr>\n",
       "    <tr>\n",
       "      <th>4</th>\n",
       "      <td>Indonesia</td>\n",
       "      <td>277534123</td>\n",
       "      <td>277534123</td>\n",
       "      <td>0.7400</td>\n",
       "      <td>Asia</td>\n",
       "      <td>South-eastern Asia</td>\n",
       "      <td>Indonesia</td>\n",
       "    </tr>\n",
       "    <tr>\n",
       "      <th>5</th>\n",
       "      <td>Pakistan</td>\n",
       "      <td>240485658</td>\n",
       "      <td>240485658</td>\n",
       "      <td>1.9800</td>\n",
       "      <td>Asia</td>\n",
       "      <td>Southern Asia</td>\n",
       "      <td>Pakistan</td>\n",
       "    </tr>\n",
       "    <tr>\n",
       "      <th>...</th>\n",
       "      <td>...</td>\n",
       "      <td>...</td>\n",
       "      <td>...</td>\n",
       "      <td>...</td>\n",
       "      <td>...</td>\n",
       "      <td>...</td>\n",
       "      <td>...</td>\n",
       "    </tr>\n",
       "    <tr>\n",
       "      <th>233</th>\n",
       "      <td>Montserrat (United Kingdom)</td>\n",
       "      <td>4387</td>\n",
       "      <td>4387</td>\n",
       "      <td>-0.0700</td>\n",
       "      <td>Americas</td>\n",
       "      <td>Caribbean</td>\n",
       "      <td>Montserrat (United Kingdom)</td>\n",
       "    </tr>\n",
       "    <tr>\n",
       "      <th>234</th>\n",
       "      <td>Falkland Islands (United Kingdom)</td>\n",
       "      <td>3791</td>\n",
       "      <td>3791</td>\n",
       "      <td>0.2900</td>\n",
       "      <td>Americas</td>\n",
       "      <td>South America</td>\n",
       "      <td>Falkland Islands (United Kingdom)</td>\n",
       "    </tr>\n",
       "    <tr>\n",
       "      <th>235</th>\n",
       "      <td>Niue</td>\n",
       "      <td>1935</td>\n",
       "      <td>1935</td>\n",
       "      <td>0.0500</td>\n",
       "      <td>Oceania</td>\n",
       "      <td>Polynesia</td>\n",
       "      <td>Niue</td>\n",
       "    </tr>\n",
       "    <tr>\n",
       "      <th>236</th>\n",
       "      <td>Tokelau (New Zealand)</td>\n",
       "      <td>1893</td>\n",
       "      <td>1893</td>\n",
       "      <td>1.1800</td>\n",
       "      <td>Oceania</td>\n",
       "      <td>Polynesia</td>\n",
       "      <td>Tokelau (New Zealand)</td>\n",
       "    </tr>\n",
       "    <tr>\n",
       "      <th>238</th>\n",
       "      <td>Pitcairn Islands (United Kingdom)</td>\n",
       "      <td>45</td>\n",
       "      <td>45</td>\n",
       "      <td>-18.1818</td>\n",
       "      <td>Oceania</td>\n",
       "      <td>Polynesia</td>\n",
       "      <td>Pitcairn Islands (United Kingdom)</td>\n",
       "    </tr>\n",
       "  </tbody>\n",
       "</table>\n",
       "<p>237 rows × 7 columns</p>\n",
       "</div>"
      ],
      "text/plain": [
       "                              Location  Population(1 July 2022)  \\\n",
       "1                                India               1428627663   \n",
       "2                             China[a]               1425671352   \n",
       "3                        United States                339996564   \n",
       "4                            Indonesia                277534123   \n",
       "5                             Pakistan                240485658   \n",
       "..                                 ...                      ...   \n",
       "233        Montserrat (United Kingdom)                     4387   \n",
       "234  Falkland Islands (United Kingdom)                     3791   \n",
       "235                               Niue                     1935   \n",
       "236              Tokelau (New Zealand)                     1893   \n",
       "238  Pitcairn Islands (United Kingdom)                       45   \n",
       "\n",
       "     Population(1 July 2023)   Change UN Continental Region[1]  \\\n",
       "1                 1428627663   0.8100                     Asia   \n",
       "2                 1425671352  -0.0200                     Asia   \n",
       "3                  339996564   0.5000                 Americas   \n",
       "4                  277534123   0.7400                     Asia   \n",
       "5                  240485658   1.9800                     Asia   \n",
       "..                       ...      ...                      ...   \n",
       "233                     4387  -0.0700                 Americas   \n",
       "234                     3791   0.2900                 Americas   \n",
       "235                     1935   0.0500                  Oceania   \n",
       "236                     1893   1.1800                  Oceania   \n",
       "238                       45 -18.1818                  Oceania   \n",
       "\n",
       "    UN Statistical Subregion[1]                           location  \n",
       "1                 Southern Asia                              India  \n",
       "2                  Eastern Asia                           China[a]  \n",
       "3              Northern America                      United States  \n",
       "4            South-eastern Asia                          Indonesia  \n",
       "5                 Southern Asia                           Pakistan  \n",
       "..                          ...                                ...  \n",
       "233                   Caribbean        Montserrat (United Kingdom)  \n",
       "234               South America  Falkland Islands (United Kingdom)  \n",
       "235                   Polynesia                               Niue  \n",
       "236                   Polynesia              Tokelau (New Zealand)  \n",
       "238                   Polynesia  Pitcairn Islands (United Kingdom)  \n",
       "\n",
       "[237 rows x 7 columns]"
      ]
     },
     "execution_count": 301,
     "metadata": {},
     "output_type": "execute_result"
    }
   ],
   "source": [
    "df"
   ]
  },
  {
   "cell_type": "code",
   "execution_count": 314,
   "id": "bad3b684-1052-4de1-8c90-46a018fb7fb8",
   "metadata": {},
   "outputs": [
    {
     "name": "stdout",
     "output_type": "stream",
     "text": [
      "DataFrame saved to Output.xlsx\n"
     ]
    }
   ],
   "source": [
    "#The data converted loaded and saved as output file \n",
    "# Save the converted DataFrame to a new Excel file\n",
    "output_file_path = 'Output.xlsx'\n",
    "df.to_excel(output_file_path, index=False)\n",
    "\n",
    "print(f\"DataFrame saved to {output_file_path}\")"
   ]
  }
 ],
 "metadata": {
  "kernelspec": {
   "display_name": "anaconda-2024.02-py310",
   "language": "python",
   "name": "conda-env-anaconda-2024.02-py310-py"
  },
  "language_info": {
   "codemirror_mode": {
    "name": "ipython",
    "version": 3
   },
   "file_extension": ".py",
   "mimetype": "text/x-python",
   "name": "python",
   "nbconvert_exporter": "python",
   "pygments_lexer": "ipython3",
   "version": "3.10.14"
  }
 },
 "nbformat": 4,
 "nbformat_minor": 5
}
